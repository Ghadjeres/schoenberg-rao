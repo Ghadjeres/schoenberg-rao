{
 "cells": [
  {
   "cell_type": "code",
   "execution_count": 1,
   "metadata": {
    "pycharm": {
     "is_executing": false
    }
   },
   "outputs": [],
   "source": [
    "%load_ext autoreload\n",
    "%autoreload 2\n",
    "\n",
    "import matplotlib.pyplot as plt\n",
    "import numpy as np\n",
    "import os\n",
    "\n",
    "from time import time\n",
    "\n",
    "import torchvision\n",
    "import torch.nn as nn\n",
    "import torch.nn.functional as F\n",
    "import torch\n",
    "torch.set_default_tensor_type(torch.DoubleTensor)\n",
    "\n",
    "import SR"
   ]
  },
  {
   "cell_type": "code",
   "execution_count": 2,
   "metadata": {
    "pycharm": {
     "is_executing": false
    }
   },
   "outputs": [],
   "source": [
    "os.makedirs('./data/mnist', exist_ok=True)\n",
    "\n",
    "mnist = torch.utils.data.DataLoader(torchvision.datasets.MNIST('./data/mnist', train=True, \n",
    "                                                               download=False,))\n",
    "#letters = torch.utils.data.DataLoader(torchvision.datasets.EMNIST('./data/EMNIST', 'letters', train=True, download=True,))\n",
    "#fashion = torch.utils.data.DataLoader(torchvision.datasets.FashionMNIST('./data/fashion', train=True, download=False))"
   ]
  },
  {
   "cell_type": "code",
   "execution_count": 3,
   "metadata": {
    "pycharm": {
     "is_executing": false
    }
   },
   "outputs": [],
   "source": [
    "img_size = 28\n",
    "\n",
    "[Ygrid, Xgrid] = np.meshgrid(np.linspace(0, 1, img_size), np.linspace(0, 1, img_size))\n",
    "Kmat = np.exp(-np.abs(Xgrid - Ygrid)**2/(0.05**2))\n",
    "Kmat = torch.tensor(Kmat)\n",
    "\n",
    "img_kernel = lambda x: torch.matmul(torch.matmul(Kmat, x), Kmat)\n",
    "\n",
    "tform = torchvision.transforms.Compose(\n",
    "                      [torchvision.transforms.ToPILImage(),\n",
    "                       torchvision.transforms.RandomAffine(10, translate=(0., 0.), scale=(0.5, 1), shear=0, resample=False, fillcolor=0),\n",
    "                       torchvision.transforms.ToTensor()\n",
    "                      ])\n",
    "#plt.matshow(Kmat)\n",
    "data = mnist"
   ]
  },
  {
   "cell_type": "markdown",
   "metadata": {},
   "source": [
    "### Show data samples"
   ]
  },
  {
   "cell_type": "code",
   "execution_count": 4,
   "metadata": {
    "pycharm": {
     "is_executing": false
    }
   },
   "outputs": [
    {
     "data": {
      "image/png": "[encoded data removed]",
      "text/plain": [
       "<Figure size 792x144 with 1 Axes>"
      ]
     },
     "metadata": {
      "needs_background": "light"
     },
     "output_type": "display_data"
    }
   ],
   "source": [
    "toshow = []\n",
    "for digit in range(0, 10):\n",
    "    ix = data.dataset.targets == digit\n",
    "    D = data.dataset.data[ix].view(-1, 28, 28).float()\n",
    "    toshow.append(D[np.random.choice(D.shape[0])])\n",
    "    \n",
    "plt.figure(figsize=(11, 2))\n",
    "plt.imshow(torch.cat(toshow, dim=1).data.numpy(), cmap='gray_r')\n",
    "plt.axis('off')\n",
    "plt.show()"
   ]
  },
  {
   "cell_type": "markdown",
   "metadata": {},
   "source": [
    "### Compute barycenters"
   ]
  },
  {
   "cell_type": "code",
   "execution_count": 5,
   "metadata": {
    "pycharm": {
     "is_executing": false,
     "name": "#%%\n"
    }
   },
   "outputs": [],
   "source": [
    "img_size = 28\n",
    "\n",
    "[Ygrid, Xgrid] = np.meshgrid(np.linspace(0, 1, img_size), np.linspace(0, 1, img_size))\n",
    "\n",
    "X = torch.Tensor([Ygrid, Xgrid]).transpose(0, 2).contiguous()\n",
    "#D = SR.batch_pdist(X.view(-1, 2), X.view(-1, 2), p=2)\n",
    "tform = torchvision.transforms.Compose(\n",
    "                      [torchvision.transforms.ToPILImage(),\n",
    "                       torchvision.transforms.RandomAffine(10, translate=(0., 0.), scale=(0.5, 1), shear=0, resample=False, fillcolor=0),\n",
    "                       torchvision.transforms.ToTensor()\n",
    "                      ])\n",
    "#plt.matshow(Kmat)\n",
    "data = mnist"
   ]
  },
  {
   "cell_type": "markdown",
   "metadata": {},
   "source": [
    "### Show computed barycenters"
   ]
  },
  {
   "cell_type": "code",
   "execution_count": 7,
   "metadata": {},
   "outputs": [
    {
     "name": "stdout",
     "output_type": "stream",
     "text": [
      "0 - 0 : 1.330e-02\n",
      "Class time:  3.0513696670532227\n",
      "1 - 0 : 3.496e-02\n",
      "Class time:  2.7519242763519287\n",
      "2 - 0 : 1.653e-02\n",
      "Class time:  2.775207042694092\n",
      "3 - 0 : 1.756e-02\n",
      "Class time:  2.783069610595703\n",
      "4 - 0 : 2.295e-02\n",
      "Class time:  2.7828619480133057\n",
      "5 - 0 : 2.026e-02\n",
      "Class time:  2.764549970626831\n",
      "6 - 0 : 2.334e-02\n",
      "Class time:  2.8475308418273926\n",
      "7 - 0 : 2.510e-02\n",
      "Class time:  3.0235581398010254\n",
      "8 - 0 : 2.438e-02\n",
      "Class time:  3.4703032970428467\n",
      "9 - 0 : 2.546e-02\n",
      "Class time:  3.4534738063812256\n"
     ]
    }
   ],
   "source": [
    "barys = []\n",
    "size_q = img_size * 16\n",
    "for digit in range(0, 10):\n",
    "    start = time()\n",
    "    ix = data.dataset.targets == digit\n",
    "    image = data.dataset.data[ix].view(-1, 28, 28).float()\n",
    "    \n",
    "    logit_q = torch.zeros(size_q)\n",
    "    q = torch.softmax(logit_q, dim=0)\n",
    "    p_p = torch.ones(img_size*img_size) / (img_size*img_size)\n",
    "    x = torch.nn.Parameter(torch.rand(size_q, 2))\n",
    "    temp = torch.tensor(0.)\n",
    "    x_p = X.view(-1, 2)\n",
    "\n",
    "    optimizer = torch.optim.Adam([x], lr=0.03, amsgrad=True)\n",
    "    \n",
    "    for i in range(101):\n",
    "        optimizer.zero_grad()\n",
    "        \n",
    "        p = SR.sample_and_resize(image[0:-1, ...], img_size, 32).view(-1, 28*28)\n",
    "        q = torch.softmax(logit_q, dim=0)\n",
    "\n",
    "        q = q.unsqueeze(0).repeat(p.size(0), 1)\n",
    "        loss = (SR.SR_discrete_optimized_batched(p,x_p, q, x)).mean()\n",
    "        \n",
    "        if i % 100 == 0:\n",
    "            print(\"%d - %d : %.3e\" % (digit, i, loss.item()))\n",
    "        loss.backward()\n",
    "        optimizer.step()\n",
    "    \n",
    "    q = torch.softmax(logit_q, dim=0)\n",
    "    barys.append((q.detach().cpu().numpy(), x.detach().cpu().numpy()))\n",
    "    \n",
    "    print('Class time: ', time()-start)"
   ]
  },
  {
   "cell_type": "code",
   "execution_count": 8,
   "metadata": {
    "pycharm": {
     "is_executing": false,
     "name": "#%%\n"
    }
   },
   "outputs": [
    {
     "data": {
      "image/png": "[encoded data removed]",
      "text/plain": [
       "<Figure size 792x180 with 1 Axes>"
      ]
     },
     "metadata": {
      "needs_background": "light"
     },
     "output_type": "display_data"
    }
   ],
   "source": [
    "plt.figure(figsize=(1.1*len(barys), 2.5))\n",
    "grids = []\n",
    "for bary in barys:\n",
    "    grid = np.zeros((28, 28))\n",
    "    q, x = bary\n",
    "    for qi, xi in zip(q, x):\n",
    "        grid[min(int(xi[0] * 28), 27)][min(int(xi[1] * 28), 27)] += qi\n",
    "    #grid = (grid > 0.003).astype(float)\n",
    "    grids.append(grid)\n",
    "\n",
    "cat_barys = np.concatenate( [ (_ - _.min()) / (_.max() - _.min())   for _ in grids], 1)\n",
    "#cat_barys = np.concatenate( [ _  for _ in grids], 1)\n",
    "plt.imshow(cat_barys**1, cmap='gray_r')\n",
    "plt.axis('off')\n",
    "plt.savefig('mnist_gray_barys_SR', dpi=300)\n",
    "plt.show()"
   ]
  }
 ],
 "metadata": {
  "kernelspec": {
   "display_name": "Python 3",
   "language": "python",
   "name": "python3"
  },
  "language_info": {
   "codemirror_mode": {
    "name": "ipython",
    "version": 3
   },
   "file_extension": ".py",
   "mimetype": "text/x-python",
   "name": "python",
   "nbconvert_exporter": "python",
   "pygments_lexer": "ipython3",
   "version": "3.7.4"
  },
  "pycharm": {
   "stem_cell": {
    "cell_type": "raw",
    "metadata": {
     "collapsed": false
    },
    "source": []
   }
  }
 },
 "nbformat": 4,
 "nbformat_minor": 2
}
